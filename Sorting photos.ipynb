{
 "cells": [
  {
   "cell_type": "markdown",
   "metadata": {},
   "source": [
    "# Переименовываем фотографии согласно дате создания"
   ]
  },
  {
   "cell_type": "code",
   "execution_count": 166,
   "metadata": {
    "collapsed": false
   },
   "outputs": [],
   "source": [
    "import os\n",
    "from datetime import datetime\n",
    "import PIL.Image #exif - стандартное описание фотографий, выгружаю его и беру минимальную дату\n",
    "import pandas as pd\n",
    "\n",
    "\n",
    "path = 'C:\\\\Users\\\\802304\\\\Downloads\\\\Riga2\\\\'\n",
    "\n",
    "names = os.listdir(path) #Список всех файлов в директории\n",
    "del names[-1] #Удаляю из списка название папки. В моем случае оно в конце, т.к. название на русском"
   ]
  },
  {
   "cell_type": "code",
   "execution_count": 167,
   "metadata": {
    "collapsed": false
   },
   "outputs": [],
   "source": [
    "dates = []\n",
    "\n",
    "for name in names:\n",
    "    with PIL.Image.open(path + name) as img: \n",
    "        exif_data = img._getexif()\n",
    "        dates.append(min(exif_data.get(306, \"?\"), exif_data.get(36867, \"?\"), exif_data.get(36868, \"?\")))"
   ]
  },
  {
   "cell_type": "code",
   "execution_count": 168,
   "metadata": {
    "collapsed": false
   },
   "outputs": [
    {
     "name": "stderr",
     "output_type": "stream",
     "text": [
      "C:\\Users\\802304\\Anaconda3\\lib\\site-packages\\ipykernel\\__main__.py:7: SettingWithCopyWarning: \n",
      "A value is trying to be set on a copy of a slice from a DataFrame\n",
      "\n",
      "See the caveats in the documentation: http://pandas.pydata.org/pandas-docs/stable/indexing.html#indexing-view-versus-copy\n",
      "C:\\Users\\802304\\Anaconda3\\lib\\site-packages\\ipykernel\\__main__.py:8: SettingWithCopyWarning: \n",
      "A value is trying to be set on a copy of a slice from a DataFrame\n",
      "\n",
      "See the caveats in the documentation: http://pandas.pydata.org/pandas-docs/stable/indexing.html#indexing-view-versus-copy\n",
      "C:\\Users\\802304\\Anaconda3\\lib\\site-packages\\ipykernel\\__main__.py:9: SettingWithCopyWarning: \n",
      "A value is trying to be set on a copy of a slice from a DataFrame\n",
      "\n",
      "See the caveats in the documentation: http://pandas.pydata.org/pandas-docs/stable/indexing.html#indexing-view-versus-copy\n"
     ]
    }
   ],
   "source": [
    "DataSet = list(zip(names, dates))\n",
    "df = pd.DataFrame(data = DataSet, columns=['Names', 'Dates'])\n",
    "\n",
    "df.Dates = pd.to_datetime(df.Dates, format=\"%Y:%m:%d %H:%M:%S\") #Привожу формат времени к понятному для Пандас\n",
    "df[\"Dates\"][df['Names'].str.startswith(\"D\")] -= (pd.Timedelta(hours=3) + pd.Timedelta(minutes=20)) #Исправляю время на одном из фотоаппаратов\n",
    "df[\"Dates\"][df['Names'].str.startswith(\"I\")] += (pd.Timedelta(hours=1) + pd.Timedelta(minutes=20)) # -\n",
    "df[\"Dates\"][df['Names'].str.startswith(\"W\")] += (pd.Timedelta(hours=1) + pd.Timedelta(minutes=20)) # -\n",
    "\n",
    "df = df.sort_values(\"Dates\") #Сортирую по времени создания фото\n",
    "df = df.reset_index(drop=True)"
   ]
  },
  {
   "cell_type": "code",
   "execution_count": 169,
   "metadata": {
    "collapsed": true
   },
   "outputs": [],
   "source": [
    "for i in df.index:\n",
    "    os.rename(path+df.ix[i, \"Names\"], path+'Photo'+str(i)+\".JPG\") #Переименовываю фотографии"
   ]
  }
 ],
 "metadata": {
  "anaconda-cloud": {},
  "kernelspec": {
   "display_name": "Python [Root]",
   "language": "python",
   "name": "Python [Root]"
  },
  "language_info": {
   "codemirror_mode": {
    "name": "ipython",
    "version": 3
   },
   "file_extension": ".py",
   "mimetype": "text/x-python",
   "name": "python",
   "nbconvert_exporter": "python",
   "pygments_lexer": "ipython3",
   "version": "3.5.2"
  }
 },
 "nbformat": 4,
 "nbformat_minor": 0
}
